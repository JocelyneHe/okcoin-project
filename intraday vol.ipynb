{
 "cells": [
  {
   "cell_type": "markdown",
   "metadata": {},
   "source": [
    "## 1. Data Loading"
   ]
  },
  {
   "cell_type": "code",
   "execution_count": 1,
   "metadata": {},
   "outputs": [
    {
     "name": "stdout",
     "output_type": "stream",
     "text": [
      "Requirement already satisfied: cufflinks in d:\\anaconda\\lib\\site-packages (0.16)\n",
      "Requirement already satisfied: setuptools>=34.4.1 in d:\\anaconda\\lib\\site-packages (from cufflinks) (40.2.0)\n",
      "Requirement already satisfied: ipython>=5.3.0 in d:\\anaconda\\lib\\site-packages (from cufflinks) (5.8.0)\n",
      "Requirement already satisfied: ipywidgets>=7.0.0 in d:\\anaconda\\lib\\site-packages (from cufflinks) (7.4.1)\n",
      "Requirement already satisfied: plotly<4.0.0a0,>=3.0.0 in d:\\anaconda\\lib\\site-packages (from cufflinks) (3.10.0)\n",
      "Requirement already satisfied: numpy>=1.9.2 in d:\\anaconda\\lib\\site-packages (from cufflinks) (1.15.1)\n",
      "Requirement already satisfied: six>=1.9.0 in d:\\anaconda\\lib\\site-packages (from cufflinks) (1.11.0)\n",
      "Requirement already satisfied: pandas>=0.19.2 in d:\\anaconda\\lib\\site-packages (from cufflinks) (0.23.4)\n",
      "Requirement already satisfied: colorlover>=0.2.1 in d:\\anaconda\\lib\\site-packages (from cufflinks) (0.3.0)\n",
      "Requirement already satisfied: pygments in d:\\anaconda\\lib\\site-packages (from ipython>=5.3.0->cufflinks) (2.2.0)\n",
      "Requirement already satisfied: colorama; sys_platform == \"win32\" in d:\\anaconda\\lib\\site-packages (from ipython>=5.3.0->cufflinks) (0.3.9)\n",
      "Requirement already satisfied: pickleshare in d:\\anaconda\\lib\\site-packages (from ipython>=5.3.0->cufflinks) (0.7.4)\n",
      "Requirement already satisfied: decorator in d:\\anaconda\\lib\\site-packages (from ipython>=5.3.0->cufflinks) (4.3.0)\n",
      "Requirement already satisfied: traitlets>=4.2 in d:\\anaconda\\lib\\site-packages (from ipython>=5.3.0->cufflinks) (4.3.2)\n",
      "Requirement already satisfied: prompt-toolkit<2.0.0,>=1.0.4 in d:\\anaconda\\lib\\site-packages (from ipython>=5.3.0->cufflinks) (1.0.15)\n",
      "Requirement already satisfied: simplegeneric>0.8 in d:\\anaconda\\lib\\site-packages (from ipython>=5.3.0->cufflinks) (0.8.1)\n",
      "Requirement already satisfied: nbformat>=4.2.0 in d:\\anaconda\\lib\\site-packages (from ipywidgets>=7.0.0->cufflinks) (4.4.0)\n",
      "Requirement already satisfied: ipykernel>=4.5.1 in d:\\anaconda\\lib\\site-packages (from ipywidgets>=7.0.0->cufflinks) (4.10.0)\n",
      "Requirement already satisfied: widgetsnbextension~=3.4.0 in d:\\anaconda\\lib\\site-packages (from ipywidgets>=7.0.0->cufflinks) (3.4.1)\n",
      "Requirement already satisfied: pytz in d:\\anaconda\\lib\\site-packages (from plotly<4.0.0a0,>=3.0.0->cufflinks) (2018.5)\n",
      "Requirement already satisfied: retrying>=1.3.3 in d:\\anaconda\\lib\\site-packages (from plotly<4.0.0a0,>=3.0.0->cufflinks) (1.3.3)\n",
      "Requirement already satisfied: requests in d:\\anaconda\\lib\\site-packages (from plotly<4.0.0a0,>=3.0.0->cufflinks) (2.19.1)\n",
      "Requirement already satisfied: python-dateutil>=2.5.0 in d:\\anaconda\\lib\\site-packages (from pandas>=0.19.2->cufflinks) (2.7.3)\n",
      "Requirement already satisfied: ipython-genutils in d:\\anaconda\\lib\\site-packages (from traitlets>=4.2->ipython>=5.3.0->cufflinks) (0.2.0)\n",
      "Requirement already satisfied: wcwidth in d:\\anaconda\\lib\\site-packages (from prompt-toolkit<2.0.0,>=1.0.4->ipython>=5.3.0->cufflinks) (0.1.7)\n",
      "Requirement already satisfied: jsonschema!=2.5.0,>=2.4 in d:\\anaconda\\lib\\site-packages (from nbformat>=4.2.0->ipywidgets>=7.0.0->cufflinks) (2.6.0)\n",
      "Requirement already satisfied: jupyter-core in d:\\anaconda\\lib\\site-packages (from nbformat>=4.2.0->ipywidgets>=7.0.0->cufflinks) (4.4.0)\n",
      "Requirement already satisfied: jupyter_client in d:\\anaconda\\lib\\site-packages (from ipykernel>=4.5.1->ipywidgets>=7.0.0->cufflinks) (5.2.3)\n",
      "Requirement already satisfied: tornado>=4.0 in d:\\anaconda\\lib\\site-packages (from ipykernel>=4.5.1->ipywidgets>=7.0.0->cufflinks) (5.1)\n",
      "Requirement already satisfied: notebook>=4.4.1 in d:\\anaconda\\lib\\site-packages (from widgetsnbextension~=3.4.0->ipywidgets>=7.0.0->cufflinks) (5.6.0)\n",
      "Requirement already satisfied: chardet<3.1.0,>=3.0.2 in d:\\anaconda\\lib\\site-packages (from requests->plotly<4.0.0a0,>=3.0.0->cufflinks) (3.0.4)\n",
      "Requirement already satisfied: idna<2.8,>=2.5 in d:\\anaconda\\lib\\site-packages (from requests->plotly<4.0.0a0,>=3.0.0->cufflinks) (2.7)\n",
      "Requirement already satisfied: urllib3<1.24,>=1.21.1 in d:\\anaconda\\lib\\site-packages (from requests->plotly<4.0.0a0,>=3.0.0->cufflinks) (1.23)\n",
      "Requirement already satisfied: certifi>=2017.4.17 in d:\\anaconda\\lib\\site-packages (from requests->plotly<4.0.0a0,>=3.0.0->cufflinks) (2019.3.9)\n",
      "Requirement already satisfied: pyzmq>=13 in d:\\anaconda\\lib\\site-packages (from jupyter_client->ipykernel>=4.5.1->ipywidgets>=7.0.0->cufflinks) (17.1.2)\n",
      "Requirement already satisfied: jinja2 in d:\\anaconda\\lib\\site-packages (from notebook>=4.4.1->widgetsnbextension~=3.4.0->ipywidgets>=7.0.0->cufflinks) (2.10)\n",
      "Requirement already satisfied: Send2Trash in d:\\anaconda\\lib\\site-packages (from notebook>=4.4.1->widgetsnbextension~=3.4.0->ipywidgets>=7.0.0->cufflinks) (1.5.0)\n",
      "Requirement already satisfied: prometheus-client in d:\\anaconda\\lib\\site-packages (from notebook>=4.4.1->widgetsnbextension~=3.4.0->ipywidgets>=7.0.0->cufflinks) (0.3.1)\n",
      "Requirement already satisfied: terminado>=0.8.1 in d:\\anaconda\\lib\\site-packages (from notebook>=4.4.1->widgetsnbextension~=3.4.0->ipywidgets>=7.0.0->cufflinks) (0.8.1)\n",
      "Requirement already satisfied: nbconvert in d:\\anaconda\\lib\\site-packages (from notebook>=4.4.1->widgetsnbextension~=3.4.0->ipywidgets>=7.0.0->cufflinks) (5.4.0)\n",
      "Requirement already satisfied: MarkupSafe>=0.23 in d:\\anaconda\\lib\\site-packages (from jinja2->notebook>=4.4.1->widgetsnbextension~=3.4.0->ipywidgets>=7.0.0->cufflinks) (1.0)\n",
      "Requirement already satisfied: mistune>=0.8.1 in d:\\anaconda\\lib\\site-packages (from nbconvert->notebook>=4.4.1->widgetsnbextension~=3.4.0->ipywidgets>=7.0.0->cufflinks) (0.8.3)\n",
      "Requirement already satisfied: entrypoints>=0.2.2 in d:\\anaconda\\lib\\site-packages (from nbconvert->notebook>=4.4.1->widgetsnbextension~=3.4.0->ipywidgets>=7.0.0->cufflinks) (0.2.3)\n",
      "Requirement already satisfied: bleach in d:\\anaconda\\lib\\site-packages (from nbconvert->notebook>=4.4.1->widgetsnbextension~=3.4.0->ipywidgets>=7.0.0->cufflinks) (2.1.4)\n",
      "Requirement already satisfied: pandocfilters>=1.4.1 in d:\\anaconda\\lib\\site-packages (from nbconvert->notebook>=4.4.1->widgetsnbextension~=3.4.0->ipywidgets>=7.0.0->cufflinks) (1.4.2)\n",
      "Requirement already satisfied: testpath in d:\\anaconda\\lib\\site-packages (from nbconvert->notebook>=4.4.1->widgetsnbextension~=3.4.0->ipywidgets>=7.0.0->cufflinks) (0.3.1)\n",
      "Requirement already satisfied: defusedxml in d:\\anaconda\\lib\\site-packages (from nbconvert->notebook>=4.4.1->widgetsnbextension~=3.4.0->ipywidgets>=7.0.0->cufflinks) (0.5.0)\n",
      "Requirement already satisfied: html5lib!=1.0b1,!=1.0b2,!=1.0b3,!=1.0b4,!=1.0b5,!=1.0b6,!=1.0b7,!=1.0b8,>=0.99999999pre in d:\\anaconda\\lib\\site-packages (from bleach->nbconvert->notebook>=4.4.1->widgetsnbextension~=3.4.0->ipywidgets>=7.0.0->cufflinks) (1.0.1)\n",
      "Requirement already satisfied: webencodings in d:\\anaconda\\lib\\site-packages (from html5lib!=1.0b1,!=1.0b2,!=1.0b3,!=1.0b4,!=1.0b5,!=1.0b6,!=1.0b7,!=1.0b8,>=0.99999999pre->bleach->nbconvert->notebook>=4.4.1->widgetsnbextension~=3.4.0->ipywidgets>=7.0.0->cufflinks) (0.5.1)\n"
     ]
    }
   ],
   "source": [
    "!pip install cufflinks"
   ]
  },
  {
   "cell_type": "code",
   "execution_count": 2,
   "metadata": {},
   "outputs": [],
   "source": [
    "from CryptoCompareAPI import CryptoCompareAPI\n",
    "from utils import COIN_LIST, myconcat\n",
    "import cufflinks as cf\n",
    "import pandas as pd\n",
    "from datetime import timedelta\n",
    "\n",
    "%matplotlib inline\n",
    "import matplotlib.pyplot as plt\n",
    "import seaborn as sns\n",
    "plt.style.use('ggplot')"
   ]
  },
  {
   "cell_type": "code",
   "execution_count": 3,
   "metadata": {},
   "outputs": [],
   "source": [
    "# Get trading data from CryptoCompareAPI\n",
    "api = CryptoCompareAPI()\n",
    "\n",
    "param_list = []\n",
    "for coin in COIN_LIST:\n",
    "    param_list.append(\n",
    "        {'fsym':coin, 'tsym':'USD', 'limit':60*24}\n",
    "    )\n",
    "\n",
    "df_list = []\n",
    "for param in param_list:\n",
    "    df = api.getCandle('m', param)\n",
    "    df_list.append(df)\n",
    "\n",
    "df = myconcat(df_list, ['time', 'close'])\n",
    "df.columns = ['time'] + COIN_LIST\n",
    "df.time = pd.to_datetime(df.time, unit='s')"
   ]
  },
  {
   "cell_type": "code",
   "execution_count": 4,
   "metadata": {},
   "outputs": [
    {
     "name": "stdout",
     "output_type": "stream",
     "text": [
      "<class 'pandas.core.frame.DataFrame'>\n",
      "RangeIndex: 1441 entries, 0 to 1440\n",
      "Data columns (total 8 columns):\n",
      "time    1441 non-null datetime64[ns]\n",
      "USDT    1441 non-null float64\n",
      "DAI     1441 non-null float64\n",
      "TUSD    1441 non-null float64\n",
      "GUSD    1441 non-null float64\n",
      "USDC    1441 non-null float64\n",
      "PAX     1441 non-null float64\n",
      "USDS    1441 non-null float64\n",
      "dtypes: datetime64[ns](1), float64(7)\n",
      "memory usage: 90.1 KB\n"
     ]
    }
   ],
   "source": [
    "df.info()"
   ]
  },
  {
   "cell_type": "code",
   "execution_count": 5,
   "metadata": {},
   "outputs": [],
   "source": [
    "df.set_index('time', inplace=True)"
   ]
  },
  {
   "cell_type": "code",
   "execution_count": 6,
   "metadata": {
    "scrolled": true
   },
   "outputs": [
    {
     "data": {
      "text/html": [
       "<div>\n",
       "<style scoped>\n",
       "    .dataframe tbody tr th:only-of-type {\n",
       "        vertical-align: middle;\n",
       "    }\n",
       "\n",
       "    .dataframe tbody tr th {\n",
       "        vertical-align: top;\n",
       "    }\n",
       "\n",
       "    .dataframe thead th {\n",
       "        text-align: right;\n",
       "    }\n",
       "</style>\n",
       "<table border=\"1\" class=\"dataframe\">\n",
       "  <thead>\n",
       "    <tr style=\"text-align: right;\">\n",
       "      <th></th>\n",
       "      <th>USDT</th>\n",
       "      <th>DAI</th>\n",
       "      <th>TUSD</th>\n",
       "      <th>GUSD</th>\n",
       "      <th>USDC</th>\n",
       "      <th>PAX</th>\n",
       "      <th>USDS</th>\n",
       "    </tr>\n",
       "    <tr>\n",
       "      <th>time</th>\n",
       "      <th></th>\n",
       "      <th></th>\n",
       "      <th></th>\n",
       "      <th></th>\n",
       "      <th></th>\n",
       "      <th></th>\n",
       "      <th></th>\n",
       "    </tr>\n",
       "  </thead>\n",
       "  <tbody>\n",
       "    <tr>\n",
       "      <th>2019-07-03 22:25:00</th>\n",
       "      <td>1.002</td>\n",
       "      <td>0.9921</td>\n",
       "      <td>0.999</td>\n",
       "      <td>0.9874</td>\n",
       "      <td>0.999</td>\n",
       "      <td>0.998</td>\n",
       "      <td>1.006</td>\n",
       "    </tr>\n",
       "    <tr>\n",
       "      <th>2019-07-03 22:26:00</th>\n",
       "      <td>1.002</td>\n",
       "      <td>0.9921</td>\n",
       "      <td>0.999</td>\n",
       "      <td>0.9914</td>\n",
       "      <td>0.999</td>\n",
       "      <td>0.998</td>\n",
       "      <td>1.007</td>\n",
       "    </tr>\n",
       "    <tr>\n",
       "      <th>2019-07-03 22:27:00</th>\n",
       "      <td>1.003</td>\n",
       "      <td>0.9921</td>\n",
       "      <td>0.998</td>\n",
       "      <td>0.9938</td>\n",
       "      <td>0.999</td>\n",
       "      <td>0.995</td>\n",
       "      <td>1.001</td>\n",
       "    </tr>\n",
       "    <tr>\n",
       "      <th>2019-07-03 22:28:00</th>\n",
       "      <td>1.003</td>\n",
       "      <td>0.9921</td>\n",
       "      <td>0.997</td>\n",
       "      <td>1.0010</td>\n",
       "      <td>0.998</td>\n",
       "      <td>0.995</td>\n",
       "      <td>1.012</td>\n",
       "    </tr>\n",
       "    <tr>\n",
       "      <th>2019-07-03 22:29:00</th>\n",
       "      <td>1.003</td>\n",
       "      <td>0.9881</td>\n",
       "      <td>0.995</td>\n",
       "      <td>0.9947</td>\n",
       "      <td>0.998</td>\n",
       "      <td>0.996</td>\n",
       "      <td>1.005</td>\n",
       "    </tr>\n",
       "  </tbody>\n",
       "</table>\n",
       "</div>"
      ],
      "text/plain": [
       "                      USDT     DAI   TUSD    GUSD   USDC    PAX   USDS\n",
       "time                                                                  \n",
       "2019-07-03 22:25:00  1.002  0.9921  0.999  0.9874  0.999  0.998  1.006\n",
       "2019-07-03 22:26:00  1.002  0.9921  0.999  0.9914  0.999  0.998  1.007\n",
       "2019-07-03 22:27:00  1.003  0.9921  0.998  0.9938  0.999  0.995  1.001\n",
       "2019-07-03 22:28:00  1.003  0.9921  0.997  1.0010  0.998  0.995  1.012\n",
       "2019-07-03 22:29:00  1.003  0.9881  0.995  0.9947  0.998  0.996  1.005"
      ]
     },
     "execution_count": 6,
     "metadata": {},
     "output_type": "execute_result"
    }
   ],
   "source": [
    "df.head()"
   ]
  },
  {
   "cell_type": "markdown",
   "metadata": {},
   "source": [
    "## 2. Intraday vol calulation"
   ]
  },
  {
   "cell_type": "markdown",
   "metadata": {},
   "source": [
    "### 2.1 Standard Deviation"
   ]
  },
  {
   "cell_type": "code",
   "execution_count": 7,
   "metadata": {},
   "outputs": [],
   "source": [
    "df_vol1 = pd.DataFrame()"
   ]
  },
  {
   "cell_type": "code",
   "execution_count": 8,
   "metadata": {},
   "outputs": [],
   "source": [
    "for coin in COIN_LIST:\n",
    "    col_name = coin + '_vol'\n",
    "    crt_time = df.index[0]\n",
    "    for time in df.index[60:]:\n",
    "        ind_start = time - timedelta(hours=1)\n",
    "        ind_end = time\n",
    "        df_vol1.loc[ind_end, col_name] = df[coin][ind_start:ind_end].std()*100"
   ]
  },
  {
   "cell_type": "code",
   "execution_count": 9,
   "metadata": {},
   "outputs": [
    {
     "data": {
      "text/html": [
       "<div>\n",
       "<style scoped>\n",
       "    .dataframe tbody tr th:only-of-type {\n",
       "        vertical-align: middle;\n",
       "    }\n",
       "\n",
       "    .dataframe tbody tr th {\n",
       "        vertical-align: top;\n",
       "    }\n",
       "\n",
       "    .dataframe thead th {\n",
       "        text-align: right;\n",
       "    }\n",
       "</style>\n",
       "<table border=\"1\" class=\"dataframe\">\n",
       "  <thead>\n",
       "    <tr style=\"text-align: right;\">\n",
       "      <th></th>\n",
       "      <th>USDT_vol</th>\n",
       "      <th>DAI_vol</th>\n",
       "      <th>TUSD_vol</th>\n",
       "      <th>GUSD_vol</th>\n",
       "      <th>USDC_vol</th>\n",
       "      <th>PAX_vol</th>\n",
       "      <th>USDS_vol</th>\n",
       "    </tr>\n",
       "  </thead>\n",
       "  <tbody>\n",
       "    <tr>\n",
       "      <th>2019-07-03 23:05:00</th>\n",
       "      <td>0.041906</td>\n",
       "      <td>0.127100</td>\n",
       "      <td>0.099450</td>\n",
       "      <td>0.347627</td>\n",
       "      <td>0.079250</td>\n",
       "      <td>0.063342</td>\n",
       "      <td>0.430601</td>\n",
       "    </tr>\n",
       "    <tr>\n",
       "      <th>2019-07-03 23:06:00</th>\n",
       "      <td>0.041530</td>\n",
       "      <td>0.127341</td>\n",
       "      <td>0.098301</td>\n",
       "      <td>0.351315</td>\n",
       "      <td>0.080251</td>\n",
       "      <td>0.062701</td>\n",
       "      <td>0.440291</td>\n",
       "    </tr>\n",
       "    <tr>\n",
       "      <th>2019-07-03 23:07:00</th>\n",
       "      <td>0.041163</td>\n",
       "      <td>0.127490</td>\n",
       "      <td>0.097192</td>\n",
       "      <td>0.353540</td>\n",
       "      <td>0.081105</td>\n",
       "      <td>0.062079</td>\n",
       "      <td>0.445508</td>\n",
       "    </tr>\n",
       "    <tr>\n",
       "      <th>2019-07-03 23:08:00</th>\n",
       "      <td>0.040803</td>\n",
       "      <td>0.127557</td>\n",
       "      <td>0.096119</td>\n",
       "      <td>0.353366</td>\n",
       "      <td>0.081833</td>\n",
       "      <td>0.061474</td>\n",
       "      <td>0.448477</td>\n",
       "    </tr>\n",
       "    <tr>\n",
       "      <th>2019-07-03 23:09:00</th>\n",
       "      <td>0.040452</td>\n",
       "      <td>0.127554</td>\n",
       "      <td>0.095081</td>\n",
       "      <td>0.354183</td>\n",
       "      <td>0.082450</td>\n",
       "      <td>0.060886</td>\n",
       "      <td>0.450943</td>\n",
       "    </tr>\n",
       "  </tbody>\n",
       "</table>\n",
       "</div>"
      ],
      "text/plain": [
       "                     USDT_vol   DAI_vol  TUSD_vol  GUSD_vol  USDC_vol  \\\n",
       "2019-07-03 23:05:00  0.041906  0.127100  0.099450  0.347627  0.079250   \n",
       "2019-07-03 23:06:00  0.041530  0.127341  0.098301  0.351315  0.080251   \n",
       "2019-07-03 23:07:00  0.041163  0.127490  0.097192  0.353540  0.081105   \n",
       "2019-07-03 23:08:00  0.040803  0.127557  0.096119  0.353366  0.081833   \n",
       "2019-07-03 23:09:00  0.040452  0.127554  0.095081  0.354183  0.082450   \n",
       "\n",
       "                      PAX_vol  USDS_vol  \n",
       "2019-07-03 23:05:00  0.063342  0.430601  \n",
       "2019-07-03 23:06:00  0.062701  0.440291  \n",
       "2019-07-03 23:07:00  0.062079  0.445508  \n",
       "2019-07-03 23:08:00  0.061474  0.448477  \n",
       "2019-07-03 23:09:00  0.060886  0.450943  "
      ]
     },
     "execution_count": 9,
     "metadata": {},
     "output_type": "execute_result"
    }
   ],
   "source": [
    "df_vol1.head()"
   ]
  },
  {
   "cell_type": "code",
   "execution_count": 10,
   "metadata": {},
   "outputs": [
    {
     "data": {
      "text/plain": [
       "<matplotlib.legend.Legend at 0x134c85fe710>"
      ]
     },
     "execution_count": 10,
     "metadata": {},
     "output_type": "execute_result"
    },
    {
     "data": {
      "text/plain": [
       "<Figure size 7200x25200 with 0 Axes>"
      ]
     },
     "metadata": {},
     "output_type": "display_data"
    },
    {
     "data": {
      "image/png": "[encoded data removed]",
      "text/plain": [
       "<Figure size 432x288 with 1 Axes>"
      ]
     },
     "metadata": {
      "needs_background": "light"
     },
     "output_type": "display_data"
    }
   ],
   "source": [
    "plt.figure(figsize=(100,50))\n",
    "df_vol1.plot(alpha=0.4, style='-')\n",
    "plt.legend(COIN_LIST, loc='upper left')"
   ]
  },
  {
   "cell_type": "markdown",
   "metadata": {},
   "source": [
    "### 2.2 'Max - Min' Pair"
   ]
  },
  {
   "cell_type": "code",
   "execution_count": 11,
   "metadata": {},
   "outputs": [],
   "source": [
    "df_vol2 = pd.DataFrame()"
   ]
  },
  {
   "cell_type": "code",
   "execution_count": 12,
   "metadata": {},
   "outputs": [],
   "source": [
    "for coin in COIN_LIST:\n",
    "    col_name = coin + '_vol'\n",
    "    crt_time = df.index[0]\n",
    "    for time in df.index[40:]:\n",
    "        ind_start = time - timedelta(hours=1)\n",
    "        ind_end = time\n",
    "        df_vol2.loc[ind_end, col_name] = df[coin][ind_start:ind_end].max()-df[coin][ind_start:ind_end].min()"
   ]
  },
  {
   "cell_type": "code",
   "execution_count": 13,
   "metadata": {},
   "outputs": [
    {
     "data": {
      "text/plain": [
       "<matplotlib.legend.Legend at 0x134c97e19b0>"
      ]
     },
     "execution_count": 13,
     "metadata": {},
     "output_type": "execute_result"
    },
    {
     "data": {
      "text/plain": [
       "<Figure size 7200x3600 with 0 Axes>"
      ]
     },
     "metadata": {},
     "output_type": "display_data"
    },
    {
     "data": {
      "image/png": "[encoded data removed]",
      "text/plain": [
       "<Figure size 432x288 with 1 Axes>"
      ]
     },
     "metadata": {
      "needs_background": "light"
     },
     "output_type": "display_data"
    }
   ],
   "source": [
    "plt.figure(figsize=(100,50))\n",
    "df_vol2.plot(alpha=0.4, style='-')\n",
    "plt.legend(COIN_LIST, loc='upper left')"
   ]
  },
  {
   "cell_type": "markdown",
   "metadata": {},
   "source": [
    "### 2.3 GARCH Model and vol clustering"
   ]
  },
  {
   "cell_type": "code",
   "execution_count": 26,
   "metadata": {},
   "outputs": [
    {
     "name": "stdout",
     "output_type": "stream",
     "text": [
      "Requirement already satisfied: arch in d:\\anaconda\\lib\\site-packages (4.8.1)\n",
      "Requirement already satisfied: scipy>=0.19 in d:\\anaconda\\lib\\site-packages (from arch) (1.1.0)\n",
      "Requirement already satisfied: cached-property>=1.5.1 in d:\\anaconda\\lib\\site-packages (from arch) (1.5.1)\n",
      "Requirement already satisfied: pandas>=0.20 in d:\\anaconda\\lib\\site-packages (from arch) (0.23.4)\n",
      "Requirement already satisfied: statsmodels>=0.8 in d:\\anaconda\\lib\\site-packages (from arch) (0.9.0)\n",
      "Requirement already satisfied: numpy>=1.13 in d:\\anaconda\\lib\\site-packages (from arch) (1.15.1)\n",
      "Requirement already satisfied: python-dateutil>=2.5.0 in d:\\anaconda\\lib\\site-packages (from pandas>=0.20->arch) (2.7.3)\n",
      "Requirement already satisfied: pytz>=2011k in d:\\anaconda\\lib\\site-packages (from pandas>=0.20->arch) (2018.5)\n",
      "Requirement already satisfied: six>=1.5 in d:\\anaconda\\lib\\site-packages (from python-dateutil>=2.5.0->pandas>=0.20->arch) (1.11.0)\n"
     ]
    }
   ],
   "source": [
    "!pip install arch --no-binary arch"
   ]
  },
  {
   "cell_type": "code",
   "execution_count": 28,
   "metadata": {},
   "outputs": [
    {
     "ename": "AttributeError",
     "evalue": "type object 'arch.univariate.recursions.array' has no attribute '__reduce_cython__'",
     "output_type": "error",
     "traceback": [
      "\u001b[1;31m---------------------------------------------------------------------------\u001b[0m",
      "\u001b[1;31mAttributeError\u001b[0m                            Traceback (most recent call last)",
      "\u001b[1;32m<ipython-input-28-8fc706fbbbf3>\u001b[0m in \u001b[0;36m<module>\u001b[1;34m()\u001b[0m\n\u001b[1;32m----> 1\u001b[1;33m \u001b[1;32mfrom\u001b[0m \u001b[0march\u001b[0m \u001b[1;32mimport\u001b[0m \u001b[0march_model\u001b[0m\u001b[1;33m\u001b[0m\u001b[0m\n\u001b[0m\u001b[0;32m      2\u001b[0m \u001b[1;31m#garch1 = arch_model(df['DAI'].values, vol='Garch', p=1, o=0, q=1, dist='Normal')\u001b[0m\u001b[1;33m\u001b[0m\u001b[1;33m\u001b[0m\u001b[0m\n\u001b[0;32m      3\u001b[0m \u001b[1;31m#res = garch1.fit(update_freq=60)\u001b[0m\u001b[1;33m\u001b[0m\u001b[1;33m\u001b[0m\u001b[0m\n",
      "\u001b[1;32mD:\\Anaconda\\lib\\site-packages\\arch\\__init__.py\u001b[0m in \u001b[0;36m<module>\u001b[1;34m()\u001b[0m\n\u001b[0;32m      1\u001b[0m \u001b[1;32mfrom\u001b[0m \u001b[0march\u001b[0m\u001b[1;33m.\u001b[0m\u001b[0m_version\u001b[0m \u001b[1;32mimport\u001b[0m \u001b[0mget_versions\u001b[0m\u001b[1;33m\u001b[0m\u001b[0m\n\u001b[1;32m----> 2\u001b[1;33m \u001b[1;32mfrom\u001b[0m \u001b[0march\u001b[0m\u001b[1;33m.\u001b[0m\u001b[0munivariate\u001b[0m\u001b[1;33m.\u001b[0m\u001b[0mmean\u001b[0m \u001b[1;32mimport\u001b[0m \u001b[0march_model\u001b[0m\u001b[1;33m\u001b[0m\u001b[0m\n\u001b[0m\u001b[0;32m      3\u001b[0m \u001b[1;32mfrom\u001b[0m \u001b[0march\u001b[0m\u001b[1;33m.\u001b[0m\u001b[0mutility\u001b[0m \u001b[1;32mimport\u001b[0m \u001b[0mtest\u001b[0m\u001b[1;33m\u001b[0m\u001b[0m\n\u001b[0;32m      4\u001b[0m \u001b[1;33m\u001b[0m\u001b[0m\n\u001b[0;32m      5\u001b[0m \u001b[0m__version__\u001b[0m \u001b[1;33m=\u001b[0m \u001b[0mget_versions\u001b[0m\u001b[1;33m(\u001b[0m\u001b[1;33m)\u001b[0m\u001b[1;33m[\u001b[0m\u001b[1;34m'version'\u001b[0m\u001b[1;33m]\u001b[0m\u001b[1;33m\u001b[0m\u001b[0m\n",
      "\u001b[1;32mD:\\Anaconda\\lib\\site-packages\\arch\\univariate\\__init__.py\u001b[0m in \u001b[0;36m<module>\u001b[1;34m()\u001b[0m\n\u001b[0;32m      3\u001b[0m from arch.univariate.distribution import (Distribution, GeneralizedError,\n\u001b[0;32m      4\u001b[0m                                           Normal, SkewStudent, StudentsT)\n\u001b[1;32m----> 5\u001b[1;33m from arch.univariate.mean import (ARX, HARX, LS, ConstantMean, ZeroMean,\n\u001b[0m\u001b[0;32m      6\u001b[0m                                   arch_model)\n\u001b[0;32m      7\u001b[0m from arch.univariate.volatility import (ARCH, EGARCH, FIGARCH, GARCH, HARCH,\n",
      "\u001b[1;32mD:\\Anaconda\\lib\\site-packages\\arch\\univariate\\mean.py\u001b[0m in \u001b[0;36m<module>\u001b[1;34m()\u001b[0m\n\u001b[0;32m     15\u001b[0m \u001b[1;32mfrom\u001b[0m \u001b[0mstatsmodels\u001b[0m\u001b[1;33m.\u001b[0m\u001b[0mtsa\u001b[0m\u001b[1;33m.\u001b[0m\u001b[0mtsatools\u001b[0m \u001b[1;32mimport\u001b[0m \u001b[0mlagmat\u001b[0m\u001b[1;33m\u001b[0m\u001b[0m\n\u001b[0;32m     16\u001b[0m \u001b[1;33m\u001b[0m\u001b[0m\n\u001b[1;32m---> 17\u001b[1;33m from arch.univariate.base import (ARCHModel, ARCHModelForecast,\n\u001b[0m\u001b[0;32m     18\u001b[0m                                   ARCHModelResult, implicit_constant)\n\u001b[0;32m     19\u001b[0m from arch.univariate.distribution import (GeneralizedError, Normal,\n",
      "\u001b[1;32mD:\\Anaconda\\lib\\site-packages\\arch\\univariate\\base.py\u001b[0m in \u001b[0;36m<module>\u001b[1;34m()\u001b[0m\n\u001b[0;32m     23\u001b[0m \u001b[1;33m\u001b[0m\u001b[0m\n\u001b[0;32m     24\u001b[0m \u001b[1;32mfrom\u001b[0m \u001b[0march\u001b[0m\u001b[1;33m.\u001b[0m\u001b[0munivariate\u001b[0m\u001b[1;33m.\u001b[0m\u001b[0mdistribution\u001b[0m \u001b[1;32mimport\u001b[0m \u001b[0mDistribution\u001b[0m\u001b[1;33m,\u001b[0m \u001b[0mNormal\u001b[0m\u001b[1;33m\u001b[0m\u001b[0m\n\u001b[1;32m---> 25\u001b[1;33m \u001b[1;32mfrom\u001b[0m \u001b[0march\u001b[0m\u001b[1;33m.\u001b[0m\u001b[0munivariate\u001b[0m\u001b[1;33m.\u001b[0m\u001b[0mvolatility\u001b[0m \u001b[1;32mimport\u001b[0m \u001b[0mConstantVariance\u001b[0m\u001b[1;33m,\u001b[0m \u001b[0mVolatilityProcess\u001b[0m\u001b[1;33m\u001b[0m\u001b[0m\n\u001b[0m\u001b[0;32m     26\u001b[0m \u001b[1;32mfrom\u001b[0m \u001b[0march\u001b[0m\u001b[1;33m.\u001b[0m\u001b[0mutility\u001b[0m\u001b[1;33m.\u001b[0m\u001b[0marray\u001b[0m \u001b[1;32mimport\u001b[0m \u001b[0mAbstractDocStringInheritor\u001b[0m\u001b[1;33m,\u001b[0m \u001b[0mensure1d\u001b[0m\u001b[1;33m\u001b[0m\u001b[0m\n\u001b[0;32m     27\u001b[0m from arch.utility.exceptions import (ConvergenceWarning, StartingValueWarning,\n",
      "\u001b[1;32mD:\\Anaconda\\lib\\site-packages\\arch\\univariate\\volatility.py\u001b[0m in \u001b[0;36m<module>\u001b[1;34m()\u001b[0m\n\u001b[0;32m     21\u001b[0m \u001b[1;33m\u001b[0m\u001b[0m\n\u001b[0;32m     22\u001b[0m \u001b[1;32mtry\u001b[0m\u001b[1;33m:\u001b[0m\u001b[1;33m\u001b[0m\u001b[0m\n\u001b[1;32m---> 23\u001b[1;33m     from arch.univariate.recursions import (garch_recursion, harch_recursion,\n\u001b[0m\u001b[0;32m     24\u001b[0m                                             \u001b[0megarch_recursion\u001b[0m\u001b[1;33m,\u001b[0m \u001b[0mmidas_recursion\u001b[0m\u001b[1;33m,\u001b[0m\u001b[1;33m\u001b[0m\u001b[0m\n\u001b[0;32m     25\u001b[0m                                             figarch_weights, figarch_recursion)\n",
      "\u001b[1;32mD:\\Anaconda\\lib\\site-packages\\arch\\univariate\\recursions.cp37-win_amd64.pyd\u001b[0m in \u001b[0;36minit arch.univariate.recursions\u001b[1;34m()\u001b[0m\n",
      "\u001b[1;31mAttributeError\u001b[0m: type object 'arch.univariate.recursions.array' has no attribute '__reduce_cython__'"
     ]
    }
   ],
   "source": [
    "from arch import arch_model\n",
    "#garch1 = arch_model(df['DAI'].values, vol='Garch', p=1, o=0, q=1, dist='Normal')\n",
    "#res = garch1.fit(update_freq=60)"
   ]
  },
  {
   "cell_type": "code",
   "execution_count": null,
   "metadata": {},
   "outputs": [],
   "source": []
  },
  {
   "cell_type": "code",
   "execution_count": null,
   "metadata": {},
   "outputs": [],
   "source": []
  },
  {
   "cell_type": "code",
   "execution_count": null,
   "metadata": {},
   "outputs": [],
   "source": []
  },
  {
   "cell_type": "code",
   "execution_count": null,
   "metadata": {},
   "outputs": [],
   "source": []
  },
  {
   "cell_type": "code",
   "execution_count": null,
   "metadata": {},
   "outputs": [],
   "source": []
  },
  {
   "cell_type": "code",
   "execution_count": null,
   "metadata": {},
   "outputs": [],
   "source": []
  },
  {
   "cell_type": "code",
   "execution_count": null,
   "metadata": {},
   "outputs": [],
   "source": []
  },
  {
   "cell_type": "code",
   "execution_count": null,
   "metadata": {},
   "outputs": [],
   "source": [
    "cf.set_config_file(offline=False, world_readable=True, theme='henanigans')\n",
    "df_vol.iplot(x='time', kind='scatter', xTitle='Date', yTitle='Price', title='Liquidity Profile of Stablecoins')"
   ]
  }
 ],
 "metadata": {
  "kernelspec": {
   "display_name": "Python 3",
   "language": "python",
   "name": "python3"
  },
  "language_info": {
   "codemirror_mode": {
    "name": "ipython",
    "version": 3
   },
   "file_extension": ".py",
   "mimetype": "text/x-python",
   "name": "python",
   "nbconvert_exporter": "python",
   "pygments_lexer": "ipython3",
   "version": "3.7.0"
  }
 },
 "nbformat": 4,
 "nbformat_minor": 2
}
